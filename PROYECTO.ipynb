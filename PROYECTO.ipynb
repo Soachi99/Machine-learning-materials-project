{
 "cells": [
  {
   "cell_type": "markdown",
   "metadata": {},
   "source": [
    "# PROYECTO MACHINE LEARNING PARA LA PREDICCIÓN DE TIPOS DE MATERIALES\n",
    "\n",
    "## JUAN PABLO INSUASTY MURILLO "
   ]
  },
  {
   "cell_type": "code",
   "execution_count": 79,
   "metadata": {},
   "outputs": [],
   "source": [
    "import pandas as pd\n",
    "import numpy as np\n",
    "import matplotlib.pyplot as plt"
   ]
  },
  {
   "cell_type": "markdown",
   "metadata": {},
   "source": [
    "### Lectura y almacenamiento del dataset"
   ]
  },
  {
   "cell_type": "code",
   "execution_count": 80,
   "metadata": {},
   "outputs": [
    {
     "data": {
      "text/html": [
       "<div>\n",
       "<style scoped>\n",
       "    .dataframe tbody tr th:only-of-type {\n",
       "        vertical-align: middle;\n",
       "    }\n",
       "\n",
       "    .dataframe tbody tr th {\n",
       "        vertical-align: top;\n",
       "    }\n",
       "\n",
       "    .dataframe thead th {\n",
       "        text-align: right;\n",
       "    }\n",
       "</style>\n",
       "<table border=\"1\" class=\"dataframe\">\n",
       "  <thead>\n",
       "    <tr style=\"text-align: right;\">\n",
       "      <th></th>\n",
       "      <th>Familia</th>\n",
       "      <th>Densidad [kg/m^3]</th>\n",
       "      <th>Modulo de Young [GPa]</th>\n",
       "      <th>Esfuerzo Último [MPa]</th>\n",
       "      <th>Dureza [Vickers]</th>\n",
       "      <th>Tenacidad a la fractura [MPa m^1/2]</th>\n",
       "      <th>Temperatura de fusión [K]</th>\n",
       "    </tr>\n",
       "  </thead>\n",
       "  <tbody>\n",
       "    <tr>\n",
       "      <th>0</th>\n",
       "      <td>Polimeros</td>\n",
       "      <td>1180.0</td>\n",
       "      <td>3.00</td>\n",
       "      <td>116.0</td>\n",
       "      <td>145.0</td>\n",
       "      <td>2.63</td>\n",
       "      <td>433.00</td>\n",
       "    </tr>\n",
       "    <tr>\n",
       "      <th>1</th>\n",
       "      <td>Metales</td>\n",
       "      <td>7870.0</td>\n",
       "      <td>186.00</td>\n",
       "      <td>420.0</td>\n",
       "      <td>126.0</td>\n",
       "      <td>130.00</td>\n",
       "      <td>1093.15</td>\n",
       "    </tr>\n",
       "    <tr>\n",
       "      <th>2</th>\n",
       "      <td>Compuestos</td>\n",
       "      <td>1670.0</td>\n",
       "      <td>4.95</td>\n",
       "      <td>46.0</td>\n",
       "      <td>1198.0</td>\n",
       "      <td>32.00</td>\n",
       "      <td>453.15</td>\n",
       "    </tr>\n",
       "    <tr>\n",
       "      <th>3</th>\n",
       "      <td>Cerámicos</td>\n",
       "      <td>2430.0</td>\n",
       "      <td>451.00</td>\n",
       "      <td>600.0</td>\n",
       "      <td>1110.0</td>\n",
       "      <td>2.80</td>\n",
       "      <td>2508.15</td>\n",
       "    </tr>\n",
       "    <tr>\n",
       "      <th>4</th>\n",
       "      <td>Metales</td>\n",
       "      <td>7845.0</td>\n",
       "      <td>200.00</td>\n",
       "      <td>525.0</td>\n",
       "      <td>155.0</td>\n",
       "      <td>134.00</td>\n",
       "      <td>1268.15</td>\n",
       "    </tr>\n",
       "  </tbody>\n",
       "</table>\n",
       "</div>"
      ],
      "text/plain": [
       "      Familia  Densidad [kg/m^3]  Modulo de Young [GPa]  \\\n",
       "0   Polimeros             1180.0                   3.00   \n",
       "1     Metales             7870.0                 186.00   \n",
       "2  Compuestos             1670.0                   4.95   \n",
       "3   Cerámicos             2430.0                 451.00   \n",
       "4     Metales             7845.0                 200.00   \n",
       "\n",
       "   Esfuerzo Último [MPa]  Dureza [Vickers]  \\\n",
       "0                  116.0             145.0   \n",
       "1                  420.0             126.0   \n",
       "2                   46.0            1198.0   \n",
       "3                  600.0            1110.0   \n",
       "4                  525.0             155.0   \n",
       "\n",
       "   Tenacidad a la fractura [MPa m^1/2]  Temperatura de fusión [K]  \n",
       "0                                 2.63                     433.00  \n",
       "1                               130.00                    1093.15  \n",
       "2                                32.00                     453.15  \n",
       "3                                 2.80                    2508.15  \n",
       "4                               134.00                    1268.15  "
      ]
     },
     "execution_count": 80,
     "metadata": {},
     "output_type": "execute_result"
    }
   ],
   "source": [
    "df = pd.read_excel(\"Datos_Materiales.xlsx\")\n",
    "df.head()"
   ]
  },
  {
   "cell_type": "markdown",
   "metadata": {},
   "source": [
    "### Conversión de datos tipo String a Númerico"
   ]
  },
  {
   "cell_type": "code",
   "execution_count": 81,
   "metadata": {},
   "outputs": [
    {
     "data": {
      "image/png": "[encoded data removed]",
      "text/plain": [
       "<Figure size 432x288 with 1 Axes>"
      ]
     },
     "metadata": {
      "needs_background": "light"
     },
     "output_type": "display_data"
    }
   ],
   "source": [
    "df[\"Familia\"] = [0 if i==\"Polimeros\" else 1 if i == \"Metales\" else 2 if i == \"Compuestos\" else 3 for i in df[\"Familia\"]]\n",
    "plt.hist(df[\"Familia\"])\n",
    "plt.show()"
   ]
  },
  {
   "cell_type": "markdown",
   "metadata": {},
   "source": [
    "### Separación de variables y salida o resultado"
   ]
  },
  {
   "cell_type": "code",
   "execution_count": 82,
   "metadata": {},
   "outputs": [
    {
     "data": {
      "text/html": [
       "<div>\n",
       "<style scoped>\n",
       "    .dataframe tbody tr th:only-of-type {\n",
       "        vertical-align: middle;\n",
       "    }\n",
       "\n",
       "    .dataframe tbody tr th {\n",
       "        vertical-align: top;\n",
       "    }\n",
       "\n",
       "    .dataframe thead th {\n",
       "        text-align: right;\n",
       "    }\n",
       "</style>\n",
       "<table border=\"1\" class=\"dataframe\">\n",
       "  <thead>\n",
       "    <tr style=\"text-align: right;\">\n",
       "      <th></th>\n",
       "      <th>Densidad [kg/m^3]</th>\n",
       "      <th>Modulo de Young [GPa]</th>\n",
       "      <th>Esfuerzo Último [MPa]</th>\n",
       "      <th>Dureza [Vickers]</th>\n",
       "      <th>Tenacidad a la fractura [MPa m^1/2]</th>\n",
       "      <th>Temperatura de fusión [K]</th>\n",
       "    </tr>\n",
       "  </thead>\n",
       "  <tbody>\n",
       "    <tr>\n",
       "      <th>0</th>\n",
       "      <td>1180.0</td>\n",
       "      <td>3.00</td>\n",
       "      <td>116.0</td>\n",
       "      <td>145.0</td>\n",
       "      <td>2.63</td>\n",
       "      <td>433.00</td>\n",
       "    </tr>\n",
       "    <tr>\n",
       "      <th>1</th>\n",
       "      <td>7870.0</td>\n",
       "      <td>186.00</td>\n",
       "      <td>420.0</td>\n",
       "      <td>126.0</td>\n",
       "      <td>130.00</td>\n",
       "      <td>1093.15</td>\n",
       "    </tr>\n",
       "    <tr>\n",
       "      <th>2</th>\n",
       "      <td>1670.0</td>\n",
       "      <td>4.95</td>\n",
       "      <td>46.0</td>\n",
       "      <td>1198.0</td>\n",
       "      <td>32.00</td>\n",
       "      <td>453.15</td>\n",
       "    </tr>\n",
       "    <tr>\n",
       "      <th>3</th>\n",
       "      <td>2430.0</td>\n",
       "      <td>451.00</td>\n",
       "      <td>600.0</td>\n",
       "      <td>1110.0</td>\n",
       "      <td>2.80</td>\n",
       "      <td>2508.15</td>\n",
       "    </tr>\n",
       "    <tr>\n",
       "      <th>4</th>\n",
       "      <td>7845.0</td>\n",
       "      <td>200.00</td>\n",
       "      <td>525.0</td>\n",
       "      <td>155.0</td>\n",
       "      <td>134.00</td>\n",
       "      <td>1268.15</td>\n",
       "    </tr>\n",
       "  </tbody>\n",
       "</table>\n",
       "</div>"
      ],
      "text/plain": [
       "   Densidad [kg/m^3]  Modulo de Young [GPa]  Esfuerzo Último [MPa]  \\\n",
       "0             1180.0                   3.00                  116.0   \n",
       "1             7870.0                 186.00                  420.0   \n",
       "2             1670.0                   4.95                   46.0   \n",
       "3             2430.0                 451.00                  600.0   \n",
       "4             7845.0                 200.00                  525.0   \n",
       "\n",
       "   Dureza [Vickers]  Tenacidad a la fractura [MPa m^1/2]  \\\n",
       "0             145.0                                 2.63   \n",
       "1             126.0                               130.00   \n",
       "2            1198.0                                32.00   \n",
       "3            1110.0                                 2.80   \n",
       "4             155.0                               134.00   \n",
       "\n",
       "   Temperatura de fusión [K]  \n",
       "0                     433.00  \n",
       "1                    1093.15  \n",
       "2                     453.15  \n",
       "3                    2508.15  \n",
       "4                    1268.15  "
      ]
     },
     "execution_count": 82,
     "metadata": {},
     "output_type": "execute_result"
    }
   ],
   "source": [
    "X = df.drop([\"Familia\"],axis=1)\n",
    "Y = df[\"Familia\"]\n",
    "X.head()"
   ]
  },
  {
   "cell_type": "markdown",
   "metadata": {},
   "source": [
    "### Separación de datos de test y train "
   ]
  },
  {
   "cell_type": "code",
   "execution_count": 83,
   "metadata": {},
   "outputs": [],
   "source": [
    "from sklearn.model_selection import train_test_split\n",
    "x_train,x_test,y_train,y_test = train_test_split(X,Y,test_size=0.25, random_state=0)"
   ]
  },
  {
   "cell_type": "markdown",
   "metadata": {},
   "source": [
    "### Regresión lineal y coeficiente R2"
   ]
  },
  {
   "cell_type": "code",
   "execution_count": 84,
   "metadata": {},
   "outputs": [
    {
     "data": {
      "text/plain": [
       "0.4035254818867283"
      ]
     },
     "execution_count": 84,
     "metadata": {},
     "output_type": "execute_result"
    }
   ],
   "source": [
    "from sklearn.linear_model import LinearRegression\n",
    "LR = LinearRegression().fit(x_train,y_train)\n",
    "LR.score(x_test,y_test) ## R2"
   ]
  },
  {
   "cell_type": "markdown",
   "metadata": {},
   "source": [
    "### Intercepto del modelo"
   ]
  },
  {
   "cell_type": "code",
   "execution_count": 85,
   "metadata": {},
   "outputs": [
    {
     "name": "stdout",
     "output_type": "stream",
     "text": [
      "0.7385639501955702\n"
     ]
    }
   ],
   "source": [
    "print(LR.intercept_)"
   ]
  },
  {
   "cell_type": "markdown",
   "metadata": {},
   "source": [
    "### Coeficientes de la regresión según su variable"
   ]
  },
  {
   "cell_type": "code",
   "execution_count": 86,
   "metadata": {},
   "outputs": [
    {
     "data": {
      "text/plain": [
       "[('Densidad [kg/m^3]', -1.564015166074241e-05),\n",
       " ('Modulo de Young [GPa]', -3.938691623157811e-05),\n",
       " ('Esfuerzo Último [MPa]', 6.379768913536988e-05),\n",
       " ('Dureza [Vickers]', 0.000468138844720972),\n",
       " ('Tenacidad a la fractura [MPa m^1/2]', -0.0031210792409730806),\n",
       " ('Temperatura de fusión [K]', 0.00047522840939349367)]"
      ]
     },
     "execution_count": 86,
     "metadata": {},
     "output_type": "execute_result"
    }
   ],
   "source": [
    "list(zip(X.columns.values.tolist(),LR.coef_))"
   ]
  },
  {
   "cell_type": "markdown",
   "metadata": {},
   "source": [
    "### Predicciones "
   ]
  },
  {
   "cell_type": "code",
   "execution_count": 87,
   "metadata": {},
   "outputs": [
    {
     "data": {
      "text/plain": [
       "array([2.96294864])"
      ]
     },
     "execution_count": 87,
     "metadata": {},
     "output_type": "execute_result"
    }
   ],
   "source": [
    "y_pred = LR.predict(np.array([[14800,420,344,2150,3,3058.15]]))\n",
    "y_pred"
   ]
  },
  {
   "cell_type": "code",
   "execution_count": 88,
   "metadata": {},
   "outputs": [
    {
     "data": {
      "text/plain": [
       "array([2.20879357])"
      ]
     },
     "execution_count": 88,
     "metadata": {},
     "output_type": "execute_result"
    }
   ],
   "source": [
    "y_pred = LR.predict(np.array([[17150,360,800,300,17.5,3400]]))\n",
    "y_pred "
   ]
  },
  {
   "cell_type": "code",
   "execution_count": 89,
   "metadata": {},
   "outputs": [
    {
     "data": {
      "text/plain": [
       "array([0.91400609])"
      ]
     },
     "execution_count": 89,
     "metadata": {},
     "output_type": "execute_result"
    }
   ],
   "source": [
    "y_pred = LR.predict(np.array([[7990,187,558,185,195,1671.15]]))\n",
    "y_pred "
   ]
  },
  {
   "cell_type": "code",
   "execution_count": 90,
   "metadata": {},
   "outputs": [
    {
     "data": {
      "text/plain": [
       "array([0.98701387])"
      ]
     },
     "execution_count": 90,
     "metadata": {},
     "output_type": "execute_result"
    }
   ],
   "source": [
    "y_pred = LR.predict(np.array([[1170,2.4,45,3,3.12,573]]))\n",
    "y_pred "
   ]
  },
  {
   "cell_type": "code",
   "execution_count": 91,
   "metadata": {},
   "outputs": [
    {
     "data": {
      "text/plain": [
       "array([0.92220537])"
      ]
     },
     "execution_count": 91,
     "metadata": {},
     "output_type": "execute_result"
    }
   ],
   "source": [
    "y_pred = LR.predict(np.array([[8390,110,360,578,65,480.85]]))\n",
    "y_pred "
   ]
  },
  {
   "cell_type": "markdown",
   "metadata": {},
   "source": [
    "### Variables más significativas para la regresión"
   ]
  },
  {
   "cell_type": "code",
   "execution_count": 92,
   "metadata": {},
   "outputs": [
    {
     "name": "stdout",
     "output_type": "stream",
     "text": [
      "Numero de variables optimo: 5\n",
      "R2 con 5 variables es: 0.4061870674241751\n"
     ]
    }
   ],
   "source": [
    "from sklearn.feature_selection import RFE\n",
    "NV_list = np.arange(1,7)\n",
    "NV = 0\n",
    "score_list = []\n",
    "score = 0\n",
    "high_score = 0\n",
    "\n",
    "for i in range(len(NV_list)):\n",
    "    x_train,x_test,y_train,y_test = train_test_split(X,Y,test_size=0.25, random_state=0)\n",
    "    model = LinearRegression()\n",
    "    rfe = RFE(model, n_features_to_select = NV_list[i])\n",
    "    x_train_rfe = rfe.fit_transform(x_train,y_train)\n",
    "    x_test_rfe = rfe.transform(x_test)\n",
    "    model.fit(x_train_rfe,y_train)\n",
    "    score = model.score(x_test_rfe,y_test)\n",
    "    score_list.append(score)\n",
    "    if score > high_score:\n",
    "        high_score = score\n",
    "        NV = NV_list[i]\n",
    "        \n",
    "print(\"Numero de variables optimo: {0}\".format(NV))\n",
    "print(\"R2 con {0} variables es: {1}\".format(NV,high_score))"
   ]
  },
  {
   "cell_type": "markdown",
   "metadata": {},
   "source": [
    "### Lista del modelo entrenado con n numero de variables y el R2 de cada uno"
   ]
  },
  {
   "cell_type": "code",
   "execution_count": 93,
   "metadata": {},
   "outputs": [
    {
     "name": "stdout",
     "output_type": "stream",
     "text": [
      "[(1, 0.05690638751820676), (2, 0.28021295658757694), (3, 0.40355593972881865), (4, 0.40574715340394885), (5, 0.4061870674241751), (6, 0.4035254818867283)]\n"
     ]
    }
   ],
   "source": [
    "print(list(zip(NV_list,score_list)))"
   ]
  },
  {
   "cell_type": "markdown",
   "metadata": {},
   "source": [
    "### Modelo entrenado con el numero de variables optimo"
   ]
  },
  {
   "cell_type": "code",
   "execution_count": 94,
   "metadata": {},
   "outputs": [],
   "source": [
    "model = LinearRegression()\n",
    "rfe = RFE(model,n_features_to_select = 5)\n",
    "x_train,x_test,y_train,y_test = train_test_split(X,Y,test_size=0.25, random_state=0)\n",
    "x_train_rfe = rfe.fit_transform(x_train,y_train)\n",
    "\n",
    "LR = model.fit(x_train_rfe,y_train)"
   ]
  },
  {
   "cell_type": "markdown",
   "metadata": {},
   "source": [
    "### Función para saber, que variables funcionan mejor para el modelo y cuales no"
   ]
  },
  {
   "cell_type": "code",
   "execution_count": 95,
   "metadata": {},
   "outputs": [
    {
     "data": {
      "text/plain": [
       "array([False,  True,  True,  True,  True,  True])"
      ]
     },
     "execution_count": 95,
     "metadata": {},
     "output_type": "execute_result"
    }
   ],
   "source": [
    "rfe.support_"
   ]
  },
  {
   "cell_type": "code",
   "execution_count": 96,
   "metadata": {},
   "outputs": [
    {
     "data": {
      "text/plain": [
       "Densidad [kg/m^3]                      False\n",
       "Modulo de Young [GPa]                   True\n",
       "Esfuerzo Último [MPa]                   True\n",
       "Dureza [Vickers]                        True\n",
       "Tenacidad a la fractura [MPa m^1/2]     True\n",
       "Temperatura de fusión [K]               True\n",
       "dtype: bool"
      ]
     },
     "execution_count": 96,
     "metadata": {},
     "output_type": "execute_result"
    }
   ],
   "source": [
    "cols = list(X.columns)\n",
    "temp = pd.Series(rfe.support_,index=cols)\n",
    "temp"
   ]
  },
  {
   "cell_type": "markdown",
   "metadata": {},
   "source": [
    "### Variables seleccionadas"
   ]
  },
  {
   "cell_type": "code",
   "execution_count": 97,
   "metadata": {},
   "outputs": [
    {
     "name": "stdout",
     "output_type": "stream",
     "text": [
      "Modulo de Young [GPa]                  True\n",
      "Esfuerzo Último [MPa]                  True\n",
      "Dureza [Vickers]                       True\n",
      "Tenacidad a la fractura [MPa m^1/2]    True\n",
      "Temperatura de fusión [K]              True\n",
      "dtype: bool\n"
     ]
    }
   ],
   "source": [
    "V_select = temp[temp==True]\n",
    "print(V_select)"
   ]
  },
  {
   "cell_type": "markdown",
   "metadata": {},
   "source": [
    "### Intercepto del modelo"
   ]
  },
  {
   "cell_type": "code",
   "execution_count": 98,
   "metadata": {},
   "outputs": [
    {
     "name": "stdout",
     "output_type": "stream",
     "text": [
      "0.725254867542164\n"
     ]
    }
   ],
   "source": [
    "print(LR.intercept_)"
   ]
  },
  {
   "cell_type": "markdown",
   "metadata": {},
   "source": [
    "### Coeficientes de la regresión según su variable"
   ]
  },
  {
   "cell_type": "code",
   "execution_count": 99,
   "metadata": {},
   "outputs": [
    {
     "data": {
      "text/plain": [
       "[('Modulo de Young [GPa]', -0.000232123205263309),\n",
       " ('Esfuerzo Último [MPa]', 4.44174630305766e-05),\n",
       " ('Dureza [Vickers]', 0.0004878456559512689),\n",
       " ('Tenacidad a la fractura [MPa m^1/2]', -0.0033398829631305564),\n",
       " ('Temperatura de fusión [K]', 0.0004565885280969861)]"
      ]
     },
     "execution_count": 99,
     "metadata": {},
     "output_type": "execute_result"
    }
   ],
   "source": [
    "list(zip(V_select.index,LR.coef_))"
   ]
  },
  {
   "cell_type": "markdown",
   "metadata": {},
   "source": [
    "### Predicciones"
   ]
  },
  {
   "cell_type": "code",
   "execution_count": 100,
   "metadata": {},
   "outputs": [
    {
     "data": {
      "text/plain": [
       "array([3.07820745])"
      ]
     },
     "execution_count": 100,
     "metadata": {},
     "output_type": "execute_result"
    }
   ],
   "source": [
    "y_pred = LR.predict(np.array([[420,344,2150,3,3058.15]]))\n",
    "y_pred"
   ]
  },
  {
   "cell_type": "code",
   "execution_count": 101,
   "metadata": {},
   "outputs": [
    {
     "data": {
      "text/plain": [
       "array([2.31753122])"
      ]
     },
     "execution_count": 101,
     "metadata": {},
     "output_type": "execute_result"
    }
   ],
   "source": [
    "y_pred = LR.predict(np.array([[360,800,300,17.5,3400]]))\n",
    "y_pred "
   ]
  },
  {
   "cell_type": "code",
   "execution_count": 102,
   "metadata": {},
   "outputs": [
    {
     "data": {
      "text/plain": [
       "array([0.90863496])"
      ]
     },
     "execution_count": 102,
     "metadata": {},
     "output_type": "execute_result"
    }
   ],
   "source": [
    "y_pred = LR.predict(np.array([[187,558,185,195,1671.15]]))\n",
    "y_pred "
   ]
  },
  {
   "cell_type": "code",
   "execution_count": 103,
   "metadata": {},
   "outputs": [
    {
     "data": {
      "text/plain": [
       "array([0.97936489])"
      ]
     },
     "execution_count": 103,
     "metadata": {},
     "output_type": "execute_result"
    }
   ],
   "source": [
    "y_pred = LR.predict(np.array([[2.4,45,3,3.12,573]]))\n",
    "y_pred "
   ]
  },
  {
   "cell_type": "code",
   "execution_count": 104,
   "metadata": {},
   "outputs": [
    {
     "data": {
      "text/plain": [
       "array([1.00014459])"
      ]
     },
     "execution_count": 104,
     "metadata": {},
     "output_type": "execute_result"
    }
   ],
   "source": [
    "y_pred = LR.predict(np.array([[110,360,578,65,480.85]]))\n",
    "y_pred "
   ]
  },
  {
   "cell_type": "markdown",
   "metadata": {},
   "source": [
    "# Regresión Logística\n",
    "\n",
    "### Entrenamiento"
   ]
  },
  {
   "cell_type": "code",
   "execution_count": 105,
   "metadata": {},
   "outputs": [],
   "source": [
    "from sklearn.linear_model import LogisticRegression\n",
    "x_train,x_test,y_train,y_test = train_test_split(X,Y,test_size=0.25, random_state=0)\n",
    "logi = LogisticRegression(solver = \"liblinear\").fit(x_train,y_train)"
   ]
  },
  {
   "cell_type": "markdown",
   "metadata": {},
   "source": [
    "### Calculo de R2 "
   ]
  },
  {
   "cell_type": "code",
   "execution_count": 106,
   "metadata": {},
   "outputs": [
    {
     "data": {
      "text/plain": [
       "0.8793103448275862"
      ]
     },
     "execution_count": 106,
     "metadata": {},
     "output_type": "execute_result"
    }
   ],
   "source": [
    "logi.score(x_test,y_test)"
   ]
  },
  {
   "cell_type": "markdown",
   "metadata": {},
   "source": [
    "### Coeficientes del modelo"
   ]
  },
  {
   "cell_type": "code",
   "execution_count": 107,
   "metadata": {},
   "outputs": [
    {
     "data": {
      "text/plain": [
       "array([ 2.58924159e-03, -2.35968156e-01,  2.07270088e-03, -1.41760116e-03,\n",
       "       -3.43489133e-01, -5.78248562e-05])"
      ]
     },
     "execution_count": 107,
     "metadata": {},
     "output_type": "execute_result"
    }
   ],
   "source": [
    "logi.coef_[0]"
   ]
  },
  {
   "cell_type": "code",
   "execution_count": 108,
   "metadata": {},
   "outputs": [
    {
     "data": {
      "text/plain": [
       "[('Densidad [kg/m^3]', 0.0025892415870007123),\n",
       " ('Modulo de Young [GPa]', -0.23596815587321834),\n",
       " ('Esfuerzo Último [MPa]', 0.0020727008805290223),\n",
       " ('Dureza [Vickers]', -0.0014176011648696358),\n",
       " ('Tenacidad a la fractura [MPa m^1/2]', -0.34348913307293827),\n",
       " ('Temperatura de fusión [K]', -5.7824856231545586e-05)]"
      ]
     },
     "execution_count": 108,
     "metadata": {},
     "output_type": "execute_result"
    }
   ],
   "source": [
    "list(zip(X.columns.values.tolist(),logi.coef_[0].tolist()))"
   ]
  },
  {
   "cell_type": "markdown",
   "metadata": {},
   "source": [
    "### Predicciones"
   ]
  },
  {
   "cell_type": "code",
   "execution_count": 109,
   "metadata": {},
   "outputs": [
    {
     "data": {
      "text/plain": [
       "array([3], dtype=int64)"
      ]
     },
     "execution_count": 109,
     "metadata": {},
     "output_type": "execute_result"
    }
   ],
   "source": [
    "y_pred = logi.predict(np.array([[14800,420,344,2150,3,3058.15]]))\n",
    "y_pred"
   ]
  },
  {
   "cell_type": "code",
   "execution_count": 110,
   "metadata": {},
   "outputs": [
    {
     "data": {
      "text/plain": [
       "array([1], dtype=int64)"
      ]
     },
     "execution_count": 110,
     "metadata": {},
     "output_type": "execute_result"
    }
   ],
   "source": [
    "y_pred = logi.predict(np.array([[17150,360,800,300,17.5,3400]]))\n",
    "y_pred "
   ]
  },
  {
   "cell_type": "code",
   "execution_count": 111,
   "metadata": {},
   "outputs": [
    {
     "data": {
      "text/plain": [
       "array([1], dtype=int64)"
      ]
     },
     "execution_count": 111,
     "metadata": {},
     "output_type": "execute_result"
    }
   ],
   "source": [
    "y_pred = logi.predict(np.array([[7990,187,558,185,195,1671.15]]))\n",
    "y_pred "
   ]
  },
  {
   "cell_type": "code",
   "execution_count": 112,
   "metadata": {},
   "outputs": [
    {
     "data": {
      "text/plain": [
       "array([0], dtype=int64)"
      ]
     },
     "execution_count": 112,
     "metadata": {},
     "output_type": "execute_result"
    }
   ],
   "source": [
    "y_pred = logi.predict(np.array([[1170,2.4,45,3,3.12,573]]))\n",
    "y_pred "
   ]
  },
  {
   "cell_type": "code",
   "execution_count": 113,
   "metadata": {},
   "outputs": [
    {
     "data": {
      "text/plain": [
       "array([1], dtype=int64)"
      ]
     },
     "execution_count": 113,
     "metadata": {},
     "output_type": "execute_result"
    }
   ],
   "source": [
    "y_pred = logi.predict(np.array([[8390,110,360,578,65,480.85]]))\n",
    "y_pred "
   ]
  },
  {
   "cell_type": "markdown",
   "metadata": {},
   "source": [
    "### Variables Optimas"
   ]
  },
  {
   "cell_type": "code",
   "execution_count": 114,
   "metadata": {},
   "outputs": [
    {
     "name": "stdout",
     "output_type": "stream",
     "text": [
      "Numero de variables optimo: 6\n",
      "R2 con 6 variables es: 0.8793103448275862\n"
     ]
    }
   ],
   "source": [
    "from sklearn.feature_selection import RFE\n",
    "NV_list = np.arange(1,7)\n",
    "NV = 0\n",
    "score_list = []\n",
    "score = 0\n",
    "high_score = 0\n",
    "\n",
    "for i in range(len(NV_list)):\n",
    "    x_train,x_test,y_train,y_test = train_test_split(X,Y,test_size=0.25, random_state=0)\n",
    "    model = LogisticRegression(solver = \"liblinear\")\n",
    "    rfe = RFE(model, n_features_to_select = NV_list[i])\n",
    "    x_train_rfe = rfe.fit_transform(x_train,y_train)\n",
    "    x_test_rfe = rfe.transform(x_test)\n",
    "    model.fit(x_train_rfe,y_train)\n",
    "    score = model.score(x_test_rfe,y_test)\n",
    "    score_list.append(score)\n",
    "    if score > high_score:\n",
    "        high_score = score\n",
    "        NV = NV_list[i]\n",
    "        \n",
    "print(\"Numero de variables optimo: {0}\".format(NV))\n",
    "print(\"R2 con {0} variables es: {1}\".format(NV,high_score))"
   ]
  },
  {
   "cell_type": "markdown",
   "metadata": {},
   "source": [
    "### Lista de R2 del modelo entrenado con n numero de variables"
   ]
  },
  {
   "cell_type": "code",
   "execution_count": 115,
   "metadata": {},
   "outputs": [
    {
     "name": "stdout",
     "output_type": "stream",
     "text": [
      "[(1, 0.5689655172413793), (2, 0.8275862068965517), (3, 0.7931034482758621), (4, 0.8275862068965517), (5, 0.8448275862068966), (6, 0.8793103448275862)]\n"
     ]
    }
   ],
   "source": [
    "print(list(zip(NV_list,score_list)))"
   ]
  },
  {
   "cell_type": "markdown",
   "metadata": {},
   "source": [
    "### Modelo entrenado con el numero de variables optimo"
   ]
  },
  {
   "cell_type": "code",
   "execution_count": 116,
   "metadata": {},
   "outputs": [],
   "source": [
    "model = LogisticRegression(solver = \"liblinear\")\n",
    "rfe = RFE(model,n_features_to_select = 6)\n",
    "x_train,x_test,y_train,y_test = train_test_split(X,Y,test_size=0.25, random_state=0)\n",
    "x_train_rfe = rfe.fit_transform(x_train,y_train)\n",
    "\n",
    "LR = model.fit(x_train_rfe,y_train)"
   ]
  },
  {
   "cell_type": "code",
   "execution_count": 117,
   "metadata": {},
   "outputs": [
    {
     "data": {
      "text/plain": [
       "array([ True,  True,  True,  True,  True,  True])"
      ]
     },
     "execution_count": 117,
     "metadata": {},
     "output_type": "execute_result"
    }
   ],
   "source": [
    "rfe.support_"
   ]
  },
  {
   "cell_type": "code",
   "execution_count": 118,
   "metadata": {},
   "outputs": [
    {
     "data": {
      "text/plain": [
       "Densidad [kg/m^3]                      True\n",
       "Modulo de Young [GPa]                  True\n",
       "Esfuerzo Último [MPa]                  True\n",
       "Dureza [Vickers]                       True\n",
       "Tenacidad a la fractura [MPa m^1/2]    True\n",
       "Temperatura de fusión [K]              True\n",
       "dtype: bool"
      ]
     },
     "execution_count": 118,
     "metadata": {},
     "output_type": "execute_result"
    }
   ],
   "source": [
    "cols = list(X.columns)\n",
    "temp = pd.Series(rfe.support_,index=cols)\n",
    "temp"
   ]
  },
  {
   "cell_type": "code",
   "execution_count": 119,
   "metadata": {},
   "outputs": [
    {
     "name": "stdout",
     "output_type": "stream",
     "text": [
      "Densidad [kg/m^3]                      True\n",
      "Modulo de Young [GPa]                  True\n",
      "Esfuerzo Último [MPa]                  True\n",
      "Dureza [Vickers]                       True\n",
      "Tenacidad a la fractura [MPa m^1/2]    True\n",
      "Temperatura de fusión [K]              True\n",
      "dtype: bool\n"
     ]
    }
   ],
   "source": [
    "V_select = temp[temp==True]\n",
    "print(V_select)"
   ]
  },
  {
   "cell_type": "markdown",
   "metadata": {},
   "source": [
    "### Lista de coeficientes por cada variable"
   ]
  },
  {
   "cell_type": "code",
   "execution_count": 120,
   "metadata": {},
   "outputs": [
    {
     "data": {
      "text/plain": [
       "[('Densidad [kg/m^3]', 0.0025892415870007123),\n",
       " ('Modulo de Young [GPa]', -0.23596815587321834),\n",
       " ('Esfuerzo Último [MPa]', 0.0020727008805290223),\n",
       " ('Dureza [Vickers]', -0.0014176011648696358),\n",
       " ('Tenacidad a la fractura [MPa m^1/2]', -0.34348913307293827),\n",
       " ('Temperatura de fusión [K]', -5.7824856231545586e-05)]"
      ]
     },
     "execution_count": 120,
     "metadata": {},
     "output_type": "execute_result"
    }
   ],
   "source": [
    "list(zip(V_select.index,logi.coef_[0]))"
   ]
  },
  {
   "cell_type": "markdown",
   "metadata": {},
   "source": [
    "# Validación Cruzada"
   ]
  },
  {
   "cell_type": "code",
   "execution_count": 121,
   "metadata": {},
   "outputs": [
    {
     "data": {
      "text/plain": [
       "array([0.86956522, 0.73913043, 0.7826087 , 0.73913043, 0.82608696,\n",
       "       0.7826087 , 0.82608696, 0.82608696, 0.73913043, 0.77272727])"
      ]
     },
     "execution_count": 121,
     "metadata": {},
     "output_type": "execute_result"
    }
   ],
   "source": [
    "from sklearn.model_selection import cross_val_score\n",
    "\n",
    "Puntaje = cross_val_score(LogisticRegression(solver=\"liblinear\"),X,Y,scoring=\"accuracy\",cv=10)\n",
    "Puntaje"
   ]
  },
  {
   "cell_type": "markdown",
   "metadata": {},
   "source": [
    "# Matríz de Confusión"
   ]
  },
  {
   "cell_type": "code",
   "execution_count": 122,
   "metadata": {},
   "outputs": [
    {
     "data": {
      "text/plain": [
       "array([[11,  0,  0,  0],\n",
       "       [ 0, 16,  0,  0],\n",
       "       [ 1,  4,  9,  2],\n",
       "       [ 0,  0,  0, 15]], dtype=int64)"
      ]
     },
     "execution_count": 122,
     "metadata": {},
     "output_type": "execute_result"
    }
   ],
   "source": [
    "from sklearn.metrics import confusion_matrix\n",
    "y_true = y_test\n",
    "x_test_rfe = rfe.transform(x_test)\n",
    "y_pred = logi.predict(x_test_rfe)\n",
    "confusion_matrix(y_true,y_pred)"
   ]
  },
  {
   "cell_type": "markdown",
   "metadata": {},
   "source": [
    "# Árbol de decisión"
   ]
  },
  {
   "cell_type": "code",
   "execution_count": 123,
   "metadata": {},
   "outputs": [],
   "source": [
    "from sklearn.tree import DecisionTreeClassifier\n",
    "from sklearn.metrics import accuracy_score\n",
    "cfl_tree = DecisionTreeClassifier(criterion = \"entropy\", max_depth = 3, random_state=0).fit(x_train,y_train)"
   ]
  },
  {
   "cell_type": "code",
   "execution_count": 124,
   "metadata": {},
   "outputs": [
    {
     "data": {
      "text/plain": [
       "0.8275862068965517"
      ]
     },
     "execution_count": 124,
     "metadata": {},
     "output_type": "execute_result"
    }
   ],
   "source": [
    "y_pred = cfl_tree.predict(x_test)\n",
    "acc = accuracy_score(y_test,y_pred)\n",
    "acc"
   ]
  },
  {
   "cell_type": "code",
   "execution_count": 125,
   "metadata": {},
   "outputs": [
    {
     "data": {
      "text/plain": [
       "array([[10,  0,  1,  0],\n",
       "       [ 0, 12,  4,  0],\n",
       "       [ 0,  0, 14,  2],\n",
       "       [ 0,  3,  0, 12]], dtype=int64)"
      ]
     },
     "execution_count": 125,
     "metadata": {},
     "output_type": "execute_result"
    }
   ],
   "source": [
    "confusion_matrix(y_test,y_pred)"
   ]
  },
  {
   "cell_type": "code",
   "execution_count": 126,
   "metadata": {},
   "outputs": [
    {
     "data": {
      "image/png": "[encoded data removed]",
      "text/plain": [
       "<Figure size 1800x1440 with 1 Axes>"
      ]
     },
     "metadata": {
      "needs_background": "light"
     },
     "output_type": "display_data"
    }
   ],
   "source": [
    "from sklearn import tree\n",
    "cfl_tree = DecisionTreeClassifier(criterion = \"entropy\", max_depth = 3, random_state=0)\n",
    "model = cfl_tree.fit(x_train,y_train)\n",
    "\n",
    "fig = plt.figure(figsize=(25,20))\n",
    "_=tree.plot_tree(cfl_tree,\n",
    "                feature_names = X.columns,\n",
    "                class_names = [\"Polimeros\",\"Metales\",\"Compuestos\",\"Cerámicos\"],\n",
    "                filled = True,\n",
    "                proportion = True)"
   ]
  },
  {
   "cell_type": "markdown",
   "metadata": {},
   "source": [
    "### Predicciones"
   ]
  },
  {
   "cell_type": "code",
   "execution_count": 131,
   "metadata": {},
   "outputs": [
    {
     "data": {
      "text/plain": [
       "array([3], dtype=int64)"
      ]
     },
     "execution_count": 131,
     "metadata": {},
     "output_type": "execute_result"
    }
   ],
   "source": [
    "y_pred = cfl_tree.predict(np.array([[14800,420,344,2150,3,3058.15]]))\n",
    "y_pred"
   ]
  },
  {
   "cell_type": "code",
   "execution_count": 132,
   "metadata": {},
   "outputs": [
    {
     "data": {
      "text/plain": [
       "array([2], dtype=int64)"
      ]
     },
     "execution_count": 132,
     "metadata": {},
     "output_type": "execute_result"
    }
   ],
   "source": [
    "y_pred = cfl_tree.predict(np.array([[17150,360,800,300,17.5,3400]]))\n",
    "y_pred "
   ]
  },
  {
   "cell_type": "code",
   "execution_count": 133,
   "metadata": {},
   "outputs": [
    {
     "data": {
      "text/plain": [
       "array([1], dtype=int64)"
      ]
     },
     "execution_count": 133,
     "metadata": {},
     "output_type": "execute_result"
    }
   ],
   "source": [
    "y_pred = cfl_tree.predict(np.array([[7990,187,558,185,195,1671.15]]))\n",
    "y_pred "
   ]
  },
  {
   "cell_type": "code",
   "execution_count": 134,
   "metadata": {},
   "outputs": [
    {
     "data": {
      "text/plain": [
       "array([0], dtype=int64)"
      ]
     },
     "execution_count": 134,
     "metadata": {},
     "output_type": "execute_result"
    }
   ],
   "source": [
    "y_pred = cfl_tree.predict(np.array([[1170,2.4,45,3,3.12,573]]))\n",
    "y_pred "
   ]
  },
  {
   "cell_type": "code",
   "execution_count": 135,
   "metadata": {},
   "outputs": [
    {
     "data": {
      "text/plain": [
       "array([1], dtype=int64)"
      ]
     },
     "execution_count": 135,
     "metadata": {},
     "output_type": "execute_result"
    }
   ],
   "source": [
    "y_pred = cfl_tree.predict(np.array([[8390,110,360,578,65,480.85]]))\n",
    "y_pred "
   ]
  },
  {
   "cell_type": "code",
   "execution_count": null,
   "metadata": {},
   "outputs": [],
   "source": []
  }
 ],
 "metadata": {
  "kernelspec": {
   "display_name": "Python 3",
   "language": "python",
   "name": "python3"
  },
  "language_info": {
   "codemirror_mode": {
    "name": "ipython",
    "version": 3
   },
   "file_extension": ".py",
   "mimetype": "text/x-python",
   "name": "python",
   "nbconvert_exporter": "python",
   "pygments_lexer": "ipython3",
   "version": "3.8.3"
  }
 },
 "nbformat": 4,
 "nbformat_minor": 4
}
